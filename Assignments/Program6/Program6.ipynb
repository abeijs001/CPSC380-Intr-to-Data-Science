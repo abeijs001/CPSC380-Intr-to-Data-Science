{
 "cells": [
  {
   "cell_type": "markdown",
   "metadata": {},
   "source": [
    "\n",
    "# CPSC380: Program 6 - Data Visualization\n",
    "\n",
    "There are three parts in this programming assignment: \n",
    "- Part A : Scatter plots and line plots (it is worth 5 points)\n",
    "- Part B: Joint plot on iris data (it is worth 5 points)\n",
    "- Part C: Word cloud (it is worth 3 points)\n",
    "\n",
    "### Submission Instruction:\n",
    "- Electronic submission: upload this jupyter notebook on d2l\n",
    "- In-class demo:\n",
    " - Run this jupyter notebook on your laptop.\n",
    " - Answer the questions if requested."
   ]
  },
  {
   "cell_type": "markdown",
   "metadata": {},
   "source": [
    "In this program assignment, you will use matplotlib to:\n",
    " - draw scatter plots and line plots\n",
    " - draw a joint plot on iris data"
   ]
  },
  {
   "cell_type": "code",
   "execution_count": 1,
   "metadata": {},
   "outputs": [],
   "source": [
    "%matplotlib inline\n",
    "import pandas as pd\n",
    "import numpy as np\n",
    "import matplotlib.pyplot as plt\n",
    "from scipy import stats"
   ]
  },
  {
   "cell_type": "markdown",
   "metadata": {},
   "source": [
    "## Part A: Scatter plots and line plots"
   ]
  },
  {
   "cell_type": "markdown",
   "metadata": {},
   "source": [
    "#### Step1: Draw a scatter plot on a given data\n",
    "\n",
    "Detailed instruction:\n",
    " - Given data: X and y, where x.shape = (50, 2), y.shape =(50,)\n",
    " - x-axis of the plot should be from the first column of X \n",
    " - y-axis of the plot should be from the second column of X \n",
    " - colors of points should be based on y (since for each X[i], we have a corresponding y[i] = {0,1})\n",
    " - size should be 50 for all data points\n",
    " - cmap = 'autumn'"
   ]
  },
  {
   "cell_type": "code",
   "execution_count": 2,
   "metadata": {},
   "outputs": [
    {
     "name": "stdout",
     "output_type": "stream",
     "text": [
      "(50, 2)\n",
      "(50,) {0, 1}\n"
     ]
    }
   ],
   "source": [
    "from sklearn.datasets import make_blobs\n",
    "X, y = make_blobs(n_samples=50, centers=2,\n",
    "                  random_state=0, cluster_std=0.60)\n",
    "print(X.shape)\n",
    "print(y.shape, set(y))\n",
    "\n",
    "# your code below for drawing a scatter plot\n"
   ]
  },
  {
   "cell_type": "markdown",
   "metadata": {},
   "source": [
    "#### Step2: Copy step1's code and add outer cirles for three data points\n",
    "\n",
    "Detailed instruction:\n",
    " - Given three data points: (0.44359863, 3.11530945), (2.33812285, 3.43116792), and (2.06156753, 1.96918596)\n",
    " - draw the outer cicles for these three data points by doing scatter plots. Particulary, you will use:\n",
    "  - size should be 200\n",
    "  - facecolors should be 'none', and edgecolors should be 'blue' so that you have outer circle with blue color"
   ]
  },
  {
   "cell_type": "code",
   "execution_count": 3,
   "metadata": {},
   "outputs": [],
   "source": [
    "# copy your code from step 1 and add three outer circles\n"
   ]
  },
  {
   "cell_type": "markdown",
   "metadata": {},
   "source": [
    "#### Step3: Draw three line plots\n",
    "\n",
    "Detailed instruction:\n",
    " - Use `linspace` function to generate 50 numbers between the range of [-1, 3.5], save it in $x$.\n",
    " - Use ($w$, $b$) to generate 50 $y$ values for any given $x$ values using linea function $y = w*x+b$\n",
    " - The three pairs of ($w$, $b$) are as follows `(0.16672179,3.041351892),(0.16672179,2.333414811), (0.16672179,1.62547773)`.\n",
    " - Now draw three line plots based on each of 50 pairs of (x, y) values.\n",
    " - The first and the third line plots have dashed lines, with the second one of solid line. All three line colors are black."
   ]
  },
  {
   "cell_type": "code",
   "execution_count": 4,
   "metadata": {},
   "outputs": [],
   "source": [
    "# your code for step 3\n"
   ]
  },
  {
   "cell_type": "markdown",
   "metadata": {},
   "source": [
    "#### Step4: Put everthing together and label them\n",
    "\n",
    "Detailed instruction:\n",
    "\n",
    "- put step2 and step3 code together\n",
    "- add the title of 'SVM classifier with margins and support vectors'\n",
    "- add xlabel of 'Feature1' and ylabel of 'Feature2'\n",
    "- make the axis to be 'tight' "
   ]
  },
  {
   "cell_type": "code",
   "execution_count": 5,
   "metadata": {},
   "outputs": [],
   "source": [
    "# copy your code from step 2 and step 3, and add labels, title....\n",
    "\n"
   ]
  },
  {
   "cell_type": "markdown",
   "metadata": {},
   "source": [
    "**Expected output**\n",
    "\n",
    "<img src=\"images/prog6_1_output.png\" style=\"width: 500px;\">"
   ]
  },
  {
   "cell_type": "markdown",
   "metadata": {},
   "source": [
    "## Part B: Joint plot"
   ]
  },
  {
   "cell_type": "code",
   "execution_count": 6,
   "metadata": {},
   "outputs": [],
   "source": [
    "import pandas as pd\n",
    "import warnings # current version of seaborn generates a bunch of warnings that we'll ignore\n",
    "warnings.filterwarnings(\"ignore\")\n",
    "import seaborn as sns\n",
    "import matplotlib.pyplot as plt\n",
    "\n",
    "sns.set(style=\"white\", color_codes=True)"
   ]
  },
  {
   "cell_type": "code",
   "execution_count": 7,
   "metadata": {},
   "outputs": [
    {
     "data": {
      "text/plain": [
       "pandas.core.frame.DataFrame"
      ]
     },
     "execution_count": 7,
     "metadata": {},
     "output_type": "execute_result"
    }
   ],
   "source": [
    "# Load the Iris flower dataset\n",
    "iris=sns.load_dataset('iris')\n",
    "type(iris)"
   ]
  },
  {
   "cell_type": "code",
   "execution_count": 8,
   "metadata": {},
   "outputs": [
    {
     "data": {
      "text/html": [
       "<div>\n",
       "<style scoped>\n",
       "    .dataframe tbody tr th:only-of-type {\n",
       "        vertical-align: middle;\n",
       "    }\n",
       "\n",
       "    .dataframe tbody tr th {\n",
       "        vertical-align: top;\n",
       "    }\n",
       "\n",
       "    .dataframe thead th {\n",
       "        text-align: right;\n",
       "    }\n",
       "</style>\n",
       "<table border=\"1\" class=\"dataframe\">\n",
       "  <thead>\n",
       "    <tr style=\"text-align: right;\">\n",
       "      <th></th>\n",
       "      <th>sepal_length</th>\n",
       "      <th>sepal_width</th>\n",
       "      <th>petal_length</th>\n",
       "      <th>petal_width</th>\n",
       "      <th>species</th>\n",
       "    </tr>\n",
       "  </thead>\n",
       "  <tbody>\n",
       "    <tr>\n",
       "      <th>0</th>\n",
       "      <td>5.1</td>\n",
       "      <td>3.5</td>\n",
       "      <td>1.4</td>\n",
       "      <td>0.2</td>\n",
       "      <td>setosa</td>\n",
       "    </tr>\n",
       "    <tr>\n",
       "      <th>1</th>\n",
       "      <td>4.9</td>\n",
       "      <td>3.0</td>\n",
       "      <td>1.4</td>\n",
       "      <td>0.2</td>\n",
       "      <td>setosa</td>\n",
       "    </tr>\n",
       "    <tr>\n",
       "      <th>2</th>\n",
       "      <td>4.7</td>\n",
       "      <td>3.2</td>\n",
       "      <td>1.3</td>\n",
       "      <td>0.2</td>\n",
       "      <td>setosa</td>\n",
       "    </tr>\n",
       "    <tr>\n",
       "      <th>3</th>\n",
       "      <td>4.6</td>\n",
       "      <td>3.1</td>\n",
       "      <td>1.5</td>\n",
       "      <td>0.2</td>\n",
       "      <td>setosa</td>\n",
       "    </tr>\n",
       "    <tr>\n",
       "      <th>4</th>\n",
       "      <td>5.0</td>\n",
       "      <td>3.6</td>\n",
       "      <td>1.4</td>\n",
       "      <td>0.2</td>\n",
       "      <td>setosa</td>\n",
       "    </tr>\n",
       "  </tbody>\n",
       "</table>\n",
       "</div>"
      ],
      "text/plain": [
       "   sepal_length  sepal_width  petal_length  petal_width species\n",
       "0           5.1          3.5           1.4          0.2  setosa\n",
       "1           4.9          3.0           1.4          0.2  setosa\n",
       "2           4.7          3.2           1.3          0.2  setosa\n",
       "3           4.6          3.1           1.5          0.2  setosa\n",
       "4           5.0          3.6           1.4          0.2  setosa"
      ]
     },
     "execution_count": 8,
     "metadata": {},
     "output_type": "execute_result"
    }
   ],
   "source": [
    "iris.head()"
   ]
  },
  {
   "cell_type": "markdown",
   "metadata": {},
   "source": [
    "#### step 1: histogram plot\n",
    "\n",
    "Do histogram plot for both \"sepal_length\" column and \"sepal_width\" column, use bin size of 20"
   ]
  },
  {
   "cell_type": "code",
   "execution_count": 9,
   "metadata": {},
   "outputs": [],
   "source": [
    "# your code for step 1 \n"
   ]
  },
  {
   "cell_type": "markdown",
   "metadata": {},
   "source": [
    "#### step 2: scatter plot\n",
    "\n",
    "Do scatter plot between column \"sepal_length\" and \"sepal_width\""
   ]
  },
  {
   "cell_type": "code",
   "execution_count": 10,
   "metadata": {},
   "outputs": [],
   "source": [
    "# your code for step 2\n"
   ]
  },
  {
   "cell_type": "markdown",
   "metadata": {},
   "source": [
    "#### step 3: Join plot\n",
    "\n",
    "Detailed Instruction: Put these three plots together as a join plot (similar to the last plot in demo `4_Visualization_4_Subplots.ipynb`), with the following differences:\n",
    " - make the whole figure size of (8,8)\n",
    " - main scatter plot should be left bottom, with the color of green, and `alpha` =1\n",
    " - x_hist (representing column \"sepal_length\") should be on the top, should NOT reverse y_axis\n",
    " - y_hist (representing column \"sepal_width\") should be on the right side, should NOT reverse x_axis\n",
    " - histogram bin size will be 20\n",
    " \n",
    "**Important**: you are NOT allowed to use seaborn package to generate joint plot"
   ]
  },
  {
   "cell_type": "code",
   "execution_count": 11,
   "metadata": {},
   "outputs": [],
   "source": [
    "# your code for step 3 \n",
    "# similar to the last plot in demo `4_Visualization_4_Subplots.ipynb`, but with some changes\n"
   ]
  },
  {
   "cell_type": "markdown",
   "metadata": {},
   "source": [
    "**Expected output**\n",
    "\n",
    "<img src=\"images/prog6_2_output.png\" style=\"width: 500px;\">"
   ]
  },
  {
   "cell_type": "markdown",
   "metadata": {},
   "source": [
    "## Part C: Word plot"
   ]
  },
  {
   "cell_type": "code",
   "execution_count": 12,
   "metadata": {
    "scrolled": true
   },
   "outputs": [],
   "source": [
    "# below is a list of tuples, with each tuple containing (computer_skill_set, job popularity, resume popularity)\n",
    "\n",
    "skill_job_resume = [ \n",
    "                    (\"big data\", 100, 15), \n",
    "                    (\"Hadoop\", 95, 25), \n",
    "                    (\"Python\", 75, 50),\n",
    "                    (\"R\", 50, 40), \n",
    "                    (\"machine learning\", 80, 20), \n",
    "                    (\"statistics\", 20, 60),\n",
    "                    (\"data science\", 60, 70), \n",
    "                    (\"analytics\", 90, 3),\n",
    "                    (\"team player\", 85, 85), \n",
    "                    (\"dynamic\", 2, 90), \n",
    "                    (\"synergies\", 70, 0),\n",
    "                    (\"actionable insights\", 40, 30), \n",
    "                    (\"think out of the box\", 45, 10),\n",
    "                    (\"self-starter\", 30, 50), \n",
    "                    (\"customer focus\", 65, 15),\n",
    "                    (\"thought leadership\", 35, 35)\n",
    "                ]"
   ]
  },
  {
   "cell_type": "code",
   "execution_count": 13,
   "metadata": {},
   "outputs": [],
   "source": [
    "# this function is to convert any input value into a corresponing text size\n",
    "def text_size(value):\n",
    "    return 8 + value / 20"
   ]
  },
  {
   "cell_type": "markdown",
   "metadata": {},
   "source": [
    "**Task**: Make a plot to display the skills (text) based on job popularity (x-axis) and resume popularity (y-axis) \n",
    "\n",
    "Detailed instruction:\n",
    "- Use plx.text function to place each skill (i.e., text) in the (x, y) plane \n",
    "- x-axis of the plot should be job postings\n",
    "- y-axis of the plot should be resume \n",
    "- size of text will be text_size() function, where the input value of the function should be total value of (jobs and resumes), e.g., (\"machine learning\", 80, 20) ==> text_size(80+20)=8+100/20=13 \n",
    "- color should be randomely generated, you can refer this https://mljar.com/blog/matplotlib-colors/ \n",
    "- set x/y labels, title\n",
    "- set x_lim(0,100) and y_lim(0,100)"
   ]
  },
  {
   "cell_type": "code",
   "execution_count": 14,
   "metadata": {},
   "outputs": [],
   "source": [
    "# your code here\n"
   ]
  },
  {
   "cell_type": "markdown",
   "metadata": {},
   "source": [
    "**Expected output**: \n",
    "\n",
    "<img src=\"images/prog6_3_output.png\" style=\"width: 500px;\">\n",
    "\n",
    "**Note**: Colors might be different, others should be same"
   ]
  },
  {
   "cell_type": "code",
   "execution_count": null,
   "metadata": {},
   "outputs": [],
   "source": []
  }
 ],
 "metadata": {
  "celltoolbar": "Raw Cell Format",
  "kernelspec": {
   "display_name": "Python 3 (ipykernel)",
   "language": "python",
   "name": "python3"
  },
  "language_info": {
   "codemirror_mode": {
    "name": "ipython",
    "version": 3
   },
   "file_extension": ".py",
   "mimetype": "text/x-python",
   "name": "python",
   "nbconvert_exporter": "python",
   "pygments_lexer": "ipython3",
   "version": "3.7.4"
  }
 },
 "nbformat": 4,
 "nbformat_minor": 1
}
