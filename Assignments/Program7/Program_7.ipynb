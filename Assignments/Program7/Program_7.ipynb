{
 "cells": [
  {
   "cell_type": "markdown",
   "metadata": {},
   "source": [
    "# CPSC380: Program 7 - Data Visualization: Pair Plot\n",
    "\n",
    "In this program assignment, you will write your code to draw a pairplot on a given `iris.csv` data (**without using seaborn package**). In another word, you will implement a pairplot method, similar to what seaborn provides.  To complete this program, you may procede the following steps:\n",
    " - Step 1: Draw KDE plots (4 points)\n",
    " - Step 2: Draw scatter plots (3 points)\n",
    " - Step 3: Put them together (4 points)\n",
    "\n",
    "\n",
    "### Submission Instruction:\n",
    "- Electronic submission: upload this jupyter notebook on d2l\n",
    "- In-class demo:\n",
    " - Run this jupyter notebook on your laptop.\n",
    " - Answer the questions if requested.\n",
    " "
   ]
  },
  {
   "cell_type": "markdown",
   "metadata": {},
   "source": []
  },
  {
   "cell_type": "code",
   "execution_count": 1,
   "metadata": {},
   "outputs": [],
   "source": [
    "%matplotlib inline\n",
    "import pandas as pd\n",
    "import numpy as np\n",
    "import matplotlib.pyplot as plt\n",
    "from scipy import stats"
   ]
  },
  {
   "cell_type": "markdown",
   "metadata": {},
   "source": [
    "## Step 0: Loading Dataset"
   ]
  },
  {
   "cell_type": "code",
   "execution_count": 2,
   "metadata": {},
   "outputs": [],
   "source": [
    "import pandas as pd\n",
    "import warnings # current version of seaborn generates a bunch of warnings that we'll ignore\n",
    "warnings.filterwarnings(\"ignore\")\n",
    "import matplotlib.pyplot as plt\n",
    "\n",
    "import seaborn as sns\n",
    "#sns.set(style=\"white\", color_codes=True)"
   ]
  },
  {
   "cell_type": "code",
   "execution_count": 3,
   "metadata": {},
   "outputs": [
    {
     "data": {
      "text/plain": [
       "pandas.core.frame.DataFrame"
      ]
     },
     "execution_count": 3,
     "metadata": {},
     "output_type": "execute_result"
    }
   ],
   "source": [
    "# Load the Iris flower dataset\n",
    "iris=sns.load_dataset('iris')\n",
    "type(iris)"
   ]
  },
  {
   "cell_type": "code",
   "execution_count": 4,
   "metadata": {},
   "outputs": [
    {
     "data": {
      "text/html": [
       "<div>\n",
       "<style scoped>\n",
       "    .dataframe tbody tr th:only-of-type {\n",
       "        vertical-align: middle;\n",
       "    }\n",
       "\n",
       "    .dataframe tbody tr th {\n",
       "        vertical-align: top;\n",
       "    }\n",
       "\n",
       "    .dataframe thead th {\n",
       "        text-align: right;\n",
       "    }\n",
       "</style>\n",
       "<table border=\"1\" class=\"dataframe\">\n",
       "  <thead>\n",
       "    <tr style=\"text-align: right;\">\n",
       "      <th></th>\n",
       "      <th>sepal_length</th>\n",
       "      <th>sepal_width</th>\n",
       "      <th>petal_length</th>\n",
       "      <th>petal_width</th>\n",
       "      <th>species</th>\n",
       "    </tr>\n",
       "  </thead>\n",
       "  <tbody>\n",
       "    <tr>\n",
       "      <td>0</td>\n",
       "      <td>5.1</td>\n",
       "      <td>3.5</td>\n",
       "      <td>1.4</td>\n",
       "      <td>0.2</td>\n",
       "      <td>setosa</td>\n",
       "    </tr>\n",
       "    <tr>\n",
       "      <td>1</td>\n",
       "      <td>4.9</td>\n",
       "      <td>3.0</td>\n",
       "      <td>1.4</td>\n",
       "      <td>0.2</td>\n",
       "      <td>setosa</td>\n",
       "    </tr>\n",
       "    <tr>\n",
       "      <td>2</td>\n",
       "      <td>4.7</td>\n",
       "      <td>3.2</td>\n",
       "      <td>1.3</td>\n",
       "      <td>0.2</td>\n",
       "      <td>setosa</td>\n",
       "    </tr>\n",
       "    <tr>\n",
       "      <td>3</td>\n",
       "      <td>4.6</td>\n",
       "      <td>3.1</td>\n",
       "      <td>1.5</td>\n",
       "      <td>0.2</td>\n",
       "      <td>setosa</td>\n",
       "    </tr>\n",
       "    <tr>\n",
       "      <td>4</td>\n",
       "      <td>5.0</td>\n",
       "      <td>3.6</td>\n",
       "      <td>1.4</td>\n",
       "      <td>0.2</td>\n",
       "      <td>setosa</td>\n",
       "    </tr>\n",
       "  </tbody>\n",
       "</table>\n",
       "</div>"
      ],
      "text/plain": [
       "   sepal_length  sepal_width  petal_length  petal_width species\n",
       "0           5.1          3.5           1.4          0.2  setosa\n",
       "1           4.9          3.0           1.4          0.2  setosa\n",
       "2           4.7          3.2           1.3          0.2  setosa\n",
       "3           4.6          3.1           1.5          0.2  setosa\n",
       "4           5.0          3.6           1.4          0.2  setosa"
      ]
     },
     "execution_count": 4,
     "metadata": {},
     "output_type": "execute_result"
    }
   ],
   "source": [
    "iris.head()"
   ]
  },
  {
   "cell_type": "code",
   "execution_count": 5,
   "metadata": {
    "scrolled": true
   },
   "outputs": [],
   "source": [
    "# you can uncomment it to see sns.pairplot\n",
    "#sns.pairplot(iris, hue='species')"
   ]
  },
  {
   "cell_type": "code",
   "execution_count": 6,
   "metadata": {},
   "outputs": [
    {
     "name": "stdout",
     "output_type": "stream",
     "text": [
      "Feature columns: \n",
      " Index(['sepal_length', 'sepal_width', 'petal_length', 'petal_width'], dtype='object')\n",
      "Class column:  species\n"
     ]
    }
   ],
   "source": [
    "# display column feature columns (all columns except the last one) and class column (last column)\n",
    "print(\"Feature columns: \\n\", iris.columns[:-1])\n",
    "print(\"Class column: \", iris.columns[-1])"
   ]
  },
  {
   "cell_type": "markdown",
   "metadata": {},
   "source": [
    "## Step 1: Drawing KDE Plots (4 points) \n",
    "\n",
    "You need to draw four kde plots like the followings:\n",
    "\n",
    "<img src=\"kdes.png\" style=\"width: 800px;\">\n",
    "\n",
    "**Detailed requirements:**\n",
    "- You need to use each iris column ['sepal_length', 'sepal_width', 'petal_length', 'petal_width'] data to draw its KDE plot.\n",
    "- Each KDE plot should have three KDE subplots, Each subplot is a KDE plot (grouped by species, which the last column of iris data).\n",
    "- Each plot should be labeled and displayed in a nice view (considering using subplots)\n",
    "- You may use a loop to to iterate each column data to draw each kde. To do so,\n",
    " - You may use pandas `groupby` function (on species) so that each column's data will be split into three parts.\n",
    " - Each of three splited data will be used to build a KDE function (you may review my KDE demo code)\n",
    " - Use `linespace` function to generate `x` for your kde plot, which is a `np` array, containing 1000 values range from `min` to `max` value, where `min` and `max` can be obtained through `min()` and `max()` on the column data.\n",
    "\n",
    "**Note**:\n",
    "- You will get partial points if you use `sns.FacetGrid` to do KDE plots.\n",
    "- You will get partial points if you cannot draw KDE plots that are separated by species."
   ]
  },
  {
   "cell_type": "code",
   "execution_count": 7,
   "metadata": {},
   "outputs": [],
   "source": [
    "from scipy import stats\n",
    "\n",
    "# Your code below\n"
   ]
  },
  {
   "cell_type": "code",
   "execution_count": null,
   "metadata": {},
   "outputs": [],
   "source": []
  },
  {
   "cell_type": "markdown",
   "metadata": {},
   "source": [
    "## Step 2: Drawing Scatter Plots (3 points)\n",
    "\n",
    "You need to draw three scatter plots like the followings:\n",
    "\n",
    "<img src=\"scatterplots.png\" style=\"width: 800px;\">\n",
    "\n",
    "**Detailed requirements:**\n",
    "- For each scatter plot, x-axis will be `sepal_length`. y-axis will be `sepal_width` (first plot),  `petal_length` (second plot),  or `petal_width` (third plot). \n",
    "- Each plot should be labeled and displayed in a nice view (considering using subplots)\n",
    "- For each plot, you may use pandas `groupby` function (on species) so that each both column's data will be split into three parts to be fed into scatter plot's (x, y) values\n",
    "\n",
    "**Note**:\n",
    "- You will get partial points if you cannot draw scatter plots that are separated by species."
   ]
  },
  {
   "cell_type": "code",
   "execution_count": 8,
   "metadata": {},
   "outputs": [],
   "source": [
    "# Your code below\n"
   ]
  },
  {
   "cell_type": "code",
   "execution_count": null,
   "metadata": {},
   "outputs": [],
   "source": []
  },
  {
   "cell_type": "markdown",
   "metadata": {},
   "source": [
    "## Step 3: Put them together  (4 points) \n",
    "\n",
    "Your final pair plot should like the following:\n",
    "\n",
    "<img src=\"pairplot.png\" style=\"width: 800px;\">\n",
    "\n",
    "**Detailed requirements:**\n",
    "- The diagonal plots should be KDE plots, while off-diagonal plots should be scatter plots.\n",
    "- You should use two loops to acomplish this step, an outer loop to control rows and an inner loop to control columns.\n",
    " - For each individual plot, you still need to use `groupby` function (on species) to get three splitted dataset for plotting.\n",
    "- You may use most of code from steps 1 and 2, depending how you implemented in step 1 and 2. \n",
    "- Additional modifications:\n",
    " - Remove top and right boarders for each plot (https://www.kite.com/python/answers/how-to-remove-the-frame-from-a-matplotlib-figure-in-python)\n",
    " - Add y-axis labels for the first column's plots, add x-axis labels for the last row's plots\n",
    " - Leave y-axis ticks on only for the first column's plots, x-axis ticks on only for the last row's plots."
   ]
  },
  {
   "cell_type": "code",
   "execution_count": 9,
   "metadata": {},
   "outputs": [],
   "source": [
    "from scipy import stats\n",
    "\n",
    "# your code below"
   ]
  },
  {
   "cell_type": "code",
   "execution_count": null,
   "metadata": {},
   "outputs": [],
   "source": []
  }
 ],
 "metadata": {
  "celltoolbar": "Raw Cell Format",
  "kernelspec": {
   "display_name": "Python 3 (ipykernel)",
   "language": "python",
   "name": "python3"
  },
  "language_info": {
   "codemirror_mode": {
    "name": "ipython",
    "version": 3
   },
   "file_extension": ".py",
   "mimetype": "text/x-python",
   "name": "python",
   "nbconvert_exporter": "python",
   "pygments_lexer": "ipython3",
   "version": "3.7.4"
  }
 },
 "nbformat": 4,
 "nbformat_minor": 1
}
